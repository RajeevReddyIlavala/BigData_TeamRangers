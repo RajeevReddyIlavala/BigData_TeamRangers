{
 "cells": [
  {
   "cell_type": "code",
   "execution_count": 39,
   "metadata": {},
   "outputs": [],
   "source": [
    "#!/usr/bin/env python\n",
    "from pyspark import SparkConf, SparkContext\n",
    "from pyspark.sql import SparkSession\n",
    "from csv import reader\n",
    "import sys\n",
    "from pyspark.sql import functions as F\n",
    "import json \n",
    "import re"
   ]
  },
  {
   "cell_type": "code",
   "execution_count": 40,
   "metadata": {},
   "outputs": [],
   "source": [
    "spark = SparkSession \\\n",
    "     .builder \\\n",
    "     .appName(\"Task5-sql\") \\\n",
    "     .getOrCreate()\n",
    "\n",
    "conf = SparkConf().setAppName(\"task2\").setMaster(\"local\")\n",
    "\n",
    "sc = SparkContext.getOrCreate(conf)\n",
    "\n",
    "df = spark.read.csv('/user/hm74/NYCColumns/6rrm-vxj9.parkname.txt.gz', sep = '\\t',header = 'false')\n",
    "\n",
    "df.createOrReplaceTempView(\"table1\")"
   ]
  },
  {
   "cell_type": "code",
   "execution_count": 41,
   "metadata": {},
   "outputs": [],
   "source": [
    "zipRegex = re.compile(r'\\d{5}$|^\\d{5}-\\d{4}$')\n",
    "#phoneNumberRegex1 = re.compile(r'([0-9]( |-)?)?(\\(?[0-9]{3}\\)?|[0-9]{3})( |-)?([0-9]{3}( |-)?[0-9]{4}|[a-zA-Z0-9]{7})$')\n",
    "phoneNumberRegex2 =re.compile(r'\\D?(\\d{3})\\D?\\D?(\\d{3})\\D?(\\d{4})$') \n",
    "emailRegex = re.compile(r'.+@[^\\.].*\\.[a-z]{2,}$')\n",
    "coordinatesRegex = re.compile(r'(\\()([-+]?)([\\d]{1,2})(((\\.)(\\d+)(,)))(\\s*)(([-+]?)([\\d]{1,3})((\\.)(\\d+))?(\\)))$')\n",
    "websiteRegex = re.compile(r'(https?:\\/\\/)?(www\\.)?([a-zA-Z0-9]+(-?[a-zA-Z0-9])*\\.)+[\\w]{2,}(\\/\\S*)?$')\n",
    "\n",
    "addressRegex = re.compile(r'(\\d{3,})\\s?(\\w{0,5})\\s([a-zA-Z]{2,30})\\s([a-zA-Z]{2,15})\\.?\\s?(\\w{0,5})$')\n",
    "nameRegex = re.compile(r'[a-zA-Z]+(([\\'\\,\\.\\- ][a-zA-Z ])?[a-zA-Z]*)*$')\n",
    "parks = [\"PARK\",\"PLAYGROUND\", \"GARDEN\"]\n",
    "\n",
    "school = [\"SCHOOL\",\"SCHOO\",\"ACADEMY\",\"COLLEGE\",\"SCIENCE\"]\n",
    "vehicleType = [\"SEDAN\",\"AMBULANCE\",\"TRUCK\", \"BICYCLE\",\"BUS\",\"CONVERTIBLE\",\"MOTORCYCLE\", \"VEHICLE\", \"MOPED\", \"SCOOTER\", \"TAXI\", \"PEDICAB\",\"BOAT\",\"VAN\"]\n",
    "schoolLevel = [\"K-2\", \"MIDDLE\", \"ELEMENTARY\",\"HIGH\",\"K-3\",\"K-4\",\"K-5\",\"K-6\",\"K-7\",\"K-8\",\"K-9\",\"K-10\",\"K-11\",\"K-12\"]\n",
    "businessName = [\"DELI\",\"PIZZA\",\"RESTAURANT\",\"CHINESE\",\"SHUSHI\",\"BAR\",\"SNACK\",\"CAFE\",\"COFFEE\",\"KITCHEN\", \"GROCERY\", \"FOOD\", \"FARM\",\"MARKET\",\"WOK\",\"GOURMET\", \"BURGER\", \"LAUNDROMAT\", \"WINE\", \"LIQUORS\", \"GARDEN\", \"DINER\", \"CUISINE\", \"PLACE\", \"CLEANERS\", \"PIZZERIA\"]\n",
    "\n",
    "subjects = [\"MATH\", \"MATH A\", \"MATH B\", \"US HISTORY\", \"SCIENCE\", \"ENGLISH\", \"SOCIAL STUDIES\"]\n",
    "\n",
    "buildingClassification = [\"R0-CONDOMINIUM\", \"R2-WALK-UP\",\"C1-WALK-UP\",\"C2-WALK-UP\",\"C3-WALK-UP\",\"C4-WALK-UP\",\"C5-WALK-UP\",\"C6-WALK-UP\",\"C7-WALK-UP\", \"C8-WALK-UP\",\"D0-ELEVATOR\", \"D1-ELEVATOR\",\"D2-ELEVATOR\",\"D3-ELEVATOR\",\"D4-ELEVATOR\", \"D5-ELEVATOR\", \"D6-ELEVATOR\",\"D7-ELEVATOR\", \"D8-ELEVATOR\",\"D9-ELEVATOR\"]\n",
    "\n",
    "neighborhood = sc.textFile(\"neighborhood.txt\").collect()\n",
    "city = sc.textFile(\"city.txt\").collect()\n",
    "cityAgency = sc.textFile(\"agency.txt\").collect()\n",
    "\n"
   ]
  },
  {
   "cell_type": "code",
   "execution_count": 42,
   "metadata": {},
   "outputs": [],
   "source": [
    "dict = {'personName': 0, 'businessName': 0, 'phoneno':0, 'address':0, 'street':0,'city':0, 'neighborhood':0, 'coordinate':0, 'zip':0, 'borough':0,\\\n",
    "       'school':0, 'color':0, 'carMake':0, 'cityAgency':0, 'subjects':0, 'schoolLevel':0, 'college':0, 'website':0, \\\n",
    "       'buildingClassification':0, 'vehicleType': 0, 'park':0}\n",
    "\n",
    "count =0"
   ]
  },
  {
   "cell_type": "code",
   "execution_count": 43,
   "metadata": {},
   "outputs": [],
   "source": [
    "for column in df.columns:\n",
    "\tcolumn_data = spark.sql(\"SELECT `\"+column+\"` as attr from table1 \").collect()\n",
    "\tif count ==0:\n",
    "\t\tcount +=1\n",
    "\t\tdict['borough'] = spark.sql(\"select * from table1 where lower(`\"+ column +\"`) in ('brooklyn','bronx', 'manhattan', 'queens', 'staten island')\").count()\n",
    "\t\tfor row in column_data:\n",
    "\t\t\tif(row.attr is not None):\n",
    "\t\t\t\tif row.attr.lower() in [x.lower() for x in neighborhood]:\n",
    "\t\t\t\t\tdict['neighborhood'] +=1\n",
    "\t\t\t\telif row.attr.lower() in [x.lower() for x in city]:\n",
    "\t\t\t\t\tdict['city'] +=1\n",
    "\t\t\t\telif row.attr.lower() in [x.lower() for x in cityAgency]:\n",
    "\t\t\t\t\tdict['cityAgency'] +=1\n",
    "\t\t\t\telif(re.match(zipRegex, row.attr)):\n",
    "\t\t\t\t\tdict['zip'] +=1\n",
    "\t\t\t\telif(re.match(phoneNumberRegex2, row.attr)):\n",
    "\t\t\t\t\tdict['phoneno'] +=1\n",
    "\t\t\t\telif(re.match(emailRegex,row.attr)):\n",
    "\t\t\t\t\tdict['email'] +=1\n",
    "\t\t\t\telif(re.match(coordinatesRegex, row.attr)):\n",
    "\t\t\t\t\tdict['coordinate'] +=1\n",
    "\t\t\t\telif(re.match(addressRegex,row.attr)):\n",
    "\t\t\t\t\tdict['address'] +=1\n",
    "\t\t\t\telif(row.attr.upper() in [x.upper() for x in subjects]):\n",
    "\t\t\t\t\tdict['subjects'] +=1                \n",
    "\t\t\t\telif(re.match(websiteRegex,row.attr)):\n",
    "\t\t\t\t\tdict['website'] +=1\n",
    "\t\t\t\telif(len(list( set(school)& set((row.attr).upper().split())))>0):\n",
    "\t\t\t\t\tdict['school'] +=1\n",
    "\t\t\t\telif(len(list( set(vehicleType)& set((row.attr).upper().split())))>0):\n",
    "\t\t\t\t\tdict['vehicleType'] +=1\t\t\n",
    "\t\t\t\telif(len(list( set(schoolLevel)& set((row.attr).upper().split())))>0):\n",
    "\t\t\t\t\tdict['schoolLevel'] +=1\n",
    "\t\t\t\telif(len(list( set(businessName)& set((row.attr).upper().split())))>0):\n",
    "\t\t\t\t\tdict['businessName'] +=1\t\t\n",
    "\t\t\t\telif(row.attr.upper() in [x.upper() for x in buildingClassification]):\n",
    "\t\t\t\t\tdict['buildingClassification'] +=1\n",
    "\t\t\t\telif(len(list( set(parks)& set((row.attr).upper().split())))>0):\n",
    "\t\t\t\t\tdict['park'] +=1\n",
    "\t\t\t"
   ]
  },
  {
   "cell_type": "code",
   "execution_count": 67,
   "metadata": {},
   "outputs": [
    {
     "name": "stdout",
     "output_type": "stream",
     "text": [
      "{'personName': 0, 'phoneno': 0, 'address': 0, 'street': 0, 'city': 0, 'neighborhood': 4, 'coordinate': 0, 'zip': 0, 'borough': 0, 'school': 0, 'color': 0, 'carMake': 0, 'cityAgency': 0, 'subjects': 0, 'schoolLevel': 2, 'college': 0, 'website': 0, 'buildingClassification': 0, 'vehicleType': 2}\n"
     ]
    }
   ],
   "source": [
    "print(dict)"
   ]
  },
  {
   "cell_type": "code",
   "execution_count": 53,
   "metadata": {},
   "outputs": [],
   "source": [
    "max1 = max(dict, key=dict.get)\n",
    "count1 = dict[max1]\n",
    "semantic_label = max1"
   ]
  },
  {
   "cell_type": "code",
   "execution_count": 58,
   "metadata": {},
   "outputs": [],
   "source": [
    "del dict[max1]"
   ]
  },
  {
   "cell_type": "code",
   "execution_count": 65,
   "metadata": {},
   "outputs": [],
   "source": [
    "max2 = max(dict, key=dict.get)\n",
    "count2 = dict[max2]\n",
    "\n"
   ]
  },
  {
   "cell_type": "code",
   "execution_count": 63,
   "metadata": {},
   "outputs": [],
   "source": [
    "del dict[max2]"
   ]
  },
  {
   "cell_type": "code",
   "execution_count": 66,
   "metadata": {},
   "outputs": [],
   "source": [
    "max3 = max(dict, key=dict.get)\n",
    "count3 = dict[max3]\n"
   ]
  },
  {
   "cell_type": "code",
   "execution_count": 69,
   "metadata": {},
   "outputs": [],
   "source": [
    "count22 = 150 "
   ]
  },
  {
   "cell_type": "code",
   "execution_count": 70,
   "metadata": {},
   "outputs": [],
   "source": [
    "if ((count1-count2)/count1) < 0.5:\n",
    "    semantic_label = max1 + \", \" + max2\n",
    "    if ((count1-count3)/count1) < 0.5:\n",
    "        semantic_label = max1 + \", \" + max2 + \", \" + max3"
   ]
  },
  {
   "cell_type": "code",
   "execution_count": 71,
   "metadata": {},
   "outputs": [
    {
     "name": "stdout",
     "output_type": "stream",
     "text": [
      "park,neighborhood\n"
     ]
    }
   ],
   "source": [
    "print(semantic_label)"
   ]
  },
  {
   "cell_type": "code",
   "execution_count": null,
   "metadata": {},
   "outputs": [],
   "source": []
  }
 ],
 "metadata": {
  "kernelspec": {
   "display_name": "Spark-2.3.0 / PySpark",
   "language": "python",
   "name": "python3"
  },
  "language_info": {
   "codemirror_mode": {
    "name": "ipython",
    "version": 3
   },
   "file_extension": ".py",
   "mimetype": "text/x-python",
   "name": "python",
   "nbconvert_exporter": "python",
   "pygments_lexer": "ipython3",
   "version": "3.6.5"
  }
 },
 "nbformat": 4,
 "nbformat_minor": 2
}
